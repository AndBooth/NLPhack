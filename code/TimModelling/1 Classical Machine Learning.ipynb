{
 "cells": [
  {
   "cell_type": "markdown",
   "metadata": {},
   "source": [
    "# Quora insincere questions\n",
    "Data and competition info can be found at https://www.kaggle.com/c/quora-insincere-questions-classification.\n",
    "It is a binary classification task on text data. The competition is judged by f1 score so that is the metric that I shall be trying to optimize."
   ]
  },
  {
   "cell_type": "code",
   "execution_count": 4,
   "metadata": {},
   "outputs": [],
   "source": [
    "from functools import partial\n",
    "from tempfile import mkdtemp\n",
    "\n",
    "import numpy as np\n",
    "from scipy.sparse import csr_matrix\n",
    "\n",
    "import pandas as pd\n",
    "from IPython.display import display\n",
    "pd.set_option('display.max_colwidth', -1)\n",
    "\n",
    "import matplotlib.pyplot as plt\n",
    "%matplotlib inline\n",
    "\n",
    "from ecprocessing import text_preprocessing as txp\n",
    "\n",
    "from sklearn.model_selection import train_test_split, GridSearchCV\n",
    "from sklearn.feature_extraction.text import CountVectorizer\n",
    "from sklearn.feature_extraction.text import TfidfVectorizer\n",
    "from sklearn.linear_model import LogisticRegression\n",
    "from sklearn import metrics\n",
    "from sklearn.pipeline import Pipeline\n",
    "from sklearn.preprocessing import FunctionTransformer\n",
    "\n",
    "from sklearn.base import BaseEstimator, TransformerMixin"
   ]
  },
  {
   "cell_type": "code",
   "execution_count": 5,
   "metadata": {},
   "outputs": [],
   "source": [
    "def threshold_search(y_true, y_proba):\n",
    "    '''Find best threshold to maximize f1 score'''\n",
    "    best_threshold = 0\n",
    "    best_score = 0\n",
    "    for threshold in [i * 0.01 for i in range(51)]:\n",
    "        score = metrics.f1_score(y_true=y_true, y_pred=y_proba > threshold)\n",
    "        if score > best_score:\n",
    "            best_threshold = threshold\n",
    "            best_score = score\n",
    "    search_result = {'threshold': best_threshold, 'f1': best_score}\n",
    "    return search_result"
   ]
  },
  {
   "cell_type": "markdown",
   "metadata": {},
   "source": [
    "## Importing data"
   ]
  },
  {
   "cell_type": "code",
   "execution_count": 7,
   "metadata": {},
   "outputs": [],
   "source": [
    "train_raw = pd.read_csv('../../data/train.csv')"
   ]
  },
  {
   "cell_type": "code",
   "execution_count": 9,
   "metadata": {},
   "outputs": [
    {
     "name": "stdout",
     "output_type": "stream",
     "text": [
      "<class 'pandas.core.frame.DataFrame'>\n",
      "RangeIndex: 1306122 entries, 0 to 1306121\n",
      "Data columns (total 3 columns):\n",
      "qid              1306122 non-null object\n",
      "question_text    1306122 non-null object\n",
      "target           1306122 non-null int64\n",
      "dtypes: int64(1), object(2)\n",
      "memory usage: 29.9+ MB\n"
     ]
    }
   ],
   "source": [
    "train_raw.info()"
   ]
  },
  {
   "cell_type": "code",
   "execution_count": 10,
   "metadata": {},
   "outputs": [],
   "source": [
    "# Create train test split\n",
    "X_train, X_test, y_train, y_test = train_test_split(train_raw.question_text, train_raw.target, test_size=0.25, random_state=42, stratify=train_raw.target)"
   ]
  },
  {
   "cell_type": "markdown",
   "metadata": {},
   "source": [
    "## Preprocessing\n",
    "Using the ecprocessing package I've created. It's a bit slow to run all the stemming, and horrificly slow to run lemmatization and I've not seen much performance increase from lemmatization so I wouldn't bother. "
   ]
  },
  {
   "cell_type": "code",
   "execution_count": 11,
   "metadata": {},
   "outputs": [],
   "source": [
    "text_normalizer_stem = FunctionTransformer(lambda x: x.apply(txp.normalize_text), validate=False)\n",
    "#normalize_text_lem = partial(txp.normalize_text, text_stemming='Lem')\n",
    "#text_normalizer_lem = FunctionTransformer(lambda x: x.apply(normalize_text_lem), validate=False)"
   ]
  },
  {
   "cell_type": "code",
   "execution_count": 12,
   "metadata": {},
   "outputs": [],
   "source": [
    "X_train_norm = text_normalizer_stem.fit_transform(X_train)\n",
    "X_test_norm = text_normalizer_stem.fit_transform(X_test)"
   ]
  },
  {
   "cell_type": "markdown",
   "metadata": {},
   "source": [
    "## Modelling\n",
    "\n",
    "### Count Vectorizer and Logistic Regression"
   ]
  },
  {
   "cell_type": "code",
   "execution_count": 13,
   "metadata": {},
   "outputs": [],
   "source": [
    "# Pipeline for preprocessing, feature extraction and classification\n",
    "pl1 = Pipeline([('vectorizer', CountVectorizer(ngram_range=(1, 2), max_df=0.9)),\n",
    "               ('clf', LogisticRegression())])"
   ]
  },
  {
   "cell_type": "code",
   "execution_count": 14,
   "metadata": {},
   "outputs": [
    {
     "name": "stderr",
     "output_type": "stream",
     "text": [
      "C:\\Users\\tprjo\\AppData\\Local\\conda\\conda\\envs\\nlphack\\lib\\site-packages\\sklearn\\linear_model\\logistic.py:433: FutureWarning: Default solver will be changed to 'lbfgs' in 0.22. Specify a solver to silence this warning.\n",
      "  FutureWarning)\n"
     ]
    },
    {
     "name": "stdout",
     "output_type": "stream",
     "text": [
      "Wall time: 2min 4s\n"
     ]
    },
    {
     "data": {
      "text/plain": [
       "Pipeline(memory=None,\n",
       "     steps=[('vectorizer', CountVectorizer(analyzer='word', binary=False, decode_error='strict',\n",
       "        dtype=<class 'numpy.int64'>, encoding='utf-8', input='content',\n",
       "        lowercase=True, max_df=0.9, max_features=None, min_df=1,\n",
       "        ngram_range=(1, 2), preprocessor=None, stop_words=None,\n",
       "       ...penalty='l2', random_state=None, solver='warn',\n",
       "          tol=0.0001, verbose=0, warm_start=False))])"
      ]
     },
     "execution_count": 14,
     "metadata": {},
     "output_type": "execute_result"
    }
   ],
   "source": [
    "%%time\n",
    "# Fitting the model\n",
    "pl1.fit(X_train_norm, y_train)"
   ]
  },
  {
   "cell_type": "code",
   "execution_count": 15,
   "metadata": {},
   "outputs": [
    {
     "name": "stdout",
     "output_type": "stream",
     "text": [
      "There are 2498091 feature words in the model\n"
     ]
    },
    {
     "data": {
      "image/png": "[encoded data removed]",
      "text/plain": [
       "<Figure size 1440x432 with 1 Axes>"
      ]
     },
     "metadata": {
      "needs_background": "light"
     },
     "output_type": "display_data"
    }
   ],
   "source": [
    "# Plotting most important coefficients\n",
    "coefs = pd.Series(pl1.named_steps['clf'].coef_[0], index = pl1.named_steps['vectorizer'].get_feature_names())\n",
    "imp_coefs = pd.concat([coefs.sort_values().head(10), coefs.sort_values().tail(10)])\n",
    "imp_coefs.plot(kind = \"barh\", figsize=(20, 6))\n",
    "_ = plt.title(\"Coefficients for Count Vectorizer and Logistic Regression - Stemmed\")\n",
    "print('There are {} feature words in the model'.format(len(coefs)))"
   ]
  },
  {
   "cell_type": "code",
   "execution_count": 16,
   "metadata": {},
   "outputs": [
    {
     "data": {
      "text/plain": [
       "0.5312034078807243"
      ]
     },
     "execution_count": 16,
     "metadata": {},
     "output_type": "execute_result"
    }
   ],
   "source": [
    "# Scoring the model\n",
    "test_predictions1 = pl1.predict(X_test_norm)\n",
    "metrics.f1_score(y_test, test_predictions1)"
   ]
  },
  {
   "cell_type": "code",
   "execution_count": 17,
   "metadata": {},
   "outputs": [
    {
     "data": {
      "text/plain": [
       "array([[302395,   3933],\n",
       "       [ 11474,   8729]], dtype=int64)"
      ]
     },
     "execution_count": 17,
     "metadata": {},
     "output_type": "execute_result"
    }
   ],
   "source": [
    "metrics.confusion_matrix(y_test, test_predictions1)"
   ]
  },
  {
   "cell_type": "code",
   "execution_count": null,
   "metadata": {
    "scrolled": false
   },
   "outputs": [],
   "source": [
    "# Look at False negatives\n",
    "pd.DataFrame(X_test[(y_test == 1) & (test_predictions == 0)]).head()"
   ]
  },
  {
   "cell_type": "code",
   "execution_count": null,
   "metadata": {},
   "outputs": [],
   "source": [
    "# Look at False positives\n",
    "pd.DataFrame(X_test[(y_test == 0) & (test_predictions == 1)]).head()"
   ]
  },
  {
   "cell_type": "code",
   "execution_count": 18,
   "metadata": {},
   "outputs": [
    {
     "name": "stdout",
     "output_type": "stream",
     "text": [
      "{'threshold': 0.19, 'f1': 0.6125070422535213}\n"
     ]
    }
   ],
   "source": [
    "# Adjust threshold to maximize f1 score\n",
    "predictions1 = pl1.predict_proba(X_test_norm)\n",
    "search_result = threshold_search(y_test, predictions1[:,1])\n",
    "print(search_result)"
   ]
  },
  {
   "cell_type": "markdown",
   "metadata": {},
   "source": [
    "### Lemmatization with Count Vectorizer and Logistic Regression\n",
    "Wouldn't reccomend running lemmatization as it is just too slow to preprocess."
   ]
  },
  {
   "cell_type": "code",
   "execution_count": null,
   "metadata": {},
   "outputs": [],
   "source": [
    "# Pipeline for preprocessing, feature extraction and classification\n",
    "#pl2 = Pipeline([('normalize_text', text_normalizer_lem),\n",
    "#               ('vectorizer', CountVectorizer(ngram_range=(1, 2))),\n",
    "#               ('clf', LogisticRegression())])"
   ]
  },
  {
   "cell_type": "code",
   "execution_count": null,
   "metadata": {},
   "outputs": [],
   "source": [
    "#%%time\n",
    "# Fitting the model\n",
    "#pl2.fit(X_train, y_train)"
   ]
  },
  {
   "cell_type": "code",
   "execution_count": null,
   "metadata": {},
   "outputs": [],
   "source": [
    "# Plotting most important coefficients\n",
    "#coefs = pd.Series(pl2.named_steps['clf'].coef_[0], index = pl2.named_steps['vectorizer'].get_feature_names())\n",
    "#imp_coefs = pd.concat([coefs.sort_values().head(10), coefs.sort_values().tail(10)])\n",
    "#imp_coefs.plot(kind = \"barh\", figsize=(20, 6))\n",
    "#_ = plt.title(\"Coefficients for Count Vectorizer and Logistic Regression - Lemmatized\")\n",
    "#print('There are {} feature words in the model'.format(len(coefs)))"
   ]
  },
  {
   "cell_type": "code",
   "execution_count": null,
   "metadata": {},
   "outputs": [],
   "source": [
    "# Scoring the model\n",
    "#test_predictions2 = pl2.predict(X_test)\n",
    "#metrics.f1_score(y_test, test_predictions2)"
   ]
  },
  {
   "cell_type": "code",
   "execution_count": null,
   "metadata": {},
   "outputs": [],
   "source": [
    "#metrics.confusion_matrix(y_test, test_predictions2)"
   ]
  },
  {
   "cell_type": "markdown",
   "metadata": {},
   "source": [
    "## Tfidf\n",
    "Same as first model but use tfidf instead of count vectorizer."
   ]
  },
  {
   "cell_type": "code",
   "execution_count": 17,
   "metadata": {},
   "outputs": [],
   "source": [
    "# Pipeline for preprocessing, feature extraction and classification\n",
    "pl3 = Pipeline([('vectorizer', TfidfVectorizer(ngram_range=(1, 2), max_df=0.9)),\n",
    "                ('clf', LogisticRegression())])"
   ]
  },
  {
   "cell_type": "code",
   "execution_count": 18,
   "metadata": {},
   "outputs": [
    {
     "name": "stderr",
     "output_type": "stream",
     "text": [
      "C:\\Users\\tprjo\\AppData\\Local\\conda\\conda\\envs\\py36\\lib\\site-packages\\sklearn\\linear_model\\logistic.py:432: FutureWarning: Default solver will be changed to 'lbfgs' in 0.22. Specify a solver to silence this warning.\n",
      "  FutureWarning)\n"
     ]
    },
    {
     "name": "stdout",
     "output_type": "stream",
     "text": [
      "Wall time: 1min 34s\n"
     ]
    },
    {
     "data": {
      "text/plain": [
       "Pipeline(memory=None,\n",
       "     steps=[('vectorizer', TfidfVectorizer(analyzer='word', binary=False, decode_error='strict',\n",
       "        dtype=<class 'numpy.float64'>, encoding='utf-8', input='content',\n",
       "        lowercase=True, max_df=0.9, max_features=None, min_df=1,\n",
       "        ngram_range=(1, 2), norm='l2', preprocessor=None, smooth_idf=...penalty='l2', random_state=None, solver='warn',\n",
       "          tol=0.0001, verbose=0, warm_start=False))])"
      ]
     },
     "execution_count": 18,
     "metadata": {},
     "output_type": "execute_result"
    }
   ],
   "source": [
    "%%time\n",
    "# Fitting the model\n",
    "pl3.fit(X_train_norm, y_train)"
   ]
  },
  {
   "cell_type": "code",
   "execution_count": 19,
   "metadata": {},
   "outputs": [
    {
     "name": "stdout",
     "output_type": "stream",
     "text": [
      "There are 2790864 feature words in the model\n"
     ]
    },
    {
     "data": {
      "image/png": "[encoded data removed]",
      "text/plain": [
       "<Figure size 1440x432 with 1 Axes>"
      ]
     },
     "metadata": {
      "needs_background": "light"
     },
     "output_type": "display_data"
    }
   ],
   "source": [
    "# Plotting most important coefficients\n",
    "coefs = pd.Series(pl3.named_steps['clf'].coef_[0], index = pl3.named_steps['vectorizer'].get_feature_names())\n",
    "imp_coefs = pd.concat([coefs.sort_values().head(10), coefs.sort_values().tail(10)])\n",
    "imp_coefs.plot(kind = \"barh\", figsize=(20, 6))\n",
    "_ = plt.title(\"Coefficients for Tfidf Vectorizer and Logistic Regression - Stemmed\")\n",
    "print('There are {} feature words in the model'.format(len(coefs)))"
   ]
  },
  {
   "cell_type": "code",
   "execution_count": 20,
   "metadata": {},
   "outputs": [
    {
     "data": {
      "text/plain": [
       "0.5544972948602345"
      ]
     },
     "execution_count": 20,
     "metadata": {},
     "output_type": "execute_result"
    }
   ],
   "source": [
    "# Scoring the model\n",
    "test_predictions3 = pl3.predict(X_test_norm)\n",
    "metrics.f1_score(y_test, test_predictions3)"
   ]
  },
  {
   "cell_type": "code",
   "execution_count": 21,
   "metadata": {},
   "outputs": [
    {
     "data": {
      "text/plain": [
       "array([[300882,   5446],\n",
       "       [ 10364,   9839]], dtype=int64)"
      ]
     },
     "execution_count": 21,
     "metadata": {},
     "output_type": "execute_result"
    }
   ],
   "source": [
    "metrics.confusion_matrix(y_test, test_predictions3)"
   ]
  },
  {
   "cell_type": "code",
   "execution_count": 22,
   "metadata": {},
   "outputs": [
    {
     "name": "stdout",
     "output_type": "stream",
     "text": [
      "{'threshold': 0.31, 'f1': 0.6003026812134354}\n"
     ]
    }
   ],
   "source": [
    "predictions3 = pl3.predict_proba(X_test_norm)\n",
    "search_result3 = threshold_search(y_test, predictions3[:,1])\n",
    "print(search_result3)"
   ]
  },
  {
   "cell_type": "markdown",
   "metadata": {},
   "source": [
    "## NB-SVM\n",
    "Following work of Jeremy Howard <a href='https://www.kaggle.com/jhoward/nb-svm-strong-linear-baseline'>kaggle kernel</a>. Details of model <a href='http://www.aclweb.org/anthology/P12-2018'>here</a>. Essentially this transforms the count of each word by multiplying by a log count ratio. You can then run logistic regression after this and it allows the model to deviate from NBs, but only if it is sure as the regularization restricts the deviation. It has been shown to perform very well https://blog.paralleldots.com/data-science/breakthrough-research-papers-and-models-for-sentiment-analysis/."
   ]
  },
  {
   "cell_type": "code",
   "execution_count": 19,
   "metadata": {},
   "outputs": [],
   "source": [
    "class NBTransformer(BaseEstimator, TransformerMixin):\n",
    "    def __init__(self, alpha=1):\n",
    "        self.r = None\n",
    "        self.alpha = alpha\n",
    "\n",
    "    def fit(self, X, y):\n",
    "        # store smoothed log count ratio\n",
    "        p = self.alpha + X[y==1].sum(0)\n",
    "        q = self.alpha + X[y==0].sum(0)\n",
    "        self.r = csr_matrix(np.log(\n",
    "            (p / (self.alpha + (y==1).sum())) /\n",
    "            (q / (self.alpha + (y==0).sum()))\n",
    "        ))\n",
    "        return self\n",
    "\n",
    "    def transform(self, X, y=None):\n",
    "        return X.multiply(self.r)"
   ]
  },
  {
   "cell_type": "code",
   "execution_count": 20,
   "metadata": {},
   "outputs": [
    {
     "name": "stdout",
     "output_type": "stream",
     "text": [
      "Wall time: 41.3 s\n"
     ]
    }
   ],
   "source": [
    "%%time\n",
    "# Preprocess, use Tfidf instead of count vectorizer as it may work ever better\n",
    "tfidf_vec = TfidfVectorizer(ngram_range=(1,2), max_df=0.9)\n",
    "X_train_vec = tfidf_vec.fit_transform(X_train_norm)\n",
    "X_test_vec = tfidf_vec.transform(X_test_norm)"
   ]
  },
  {
   "cell_type": "code",
   "execution_count": 21,
   "metadata": {},
   "outputs": [
    {
     "name": "stdout",
     "output_type": "stream",
     "text": [
      "Wall time: 5.57 s\n"
     ]
    }
   ],
   "source": [
    "%%time\n",
    "# Create NB features\n",
    "nbtransformer = NBTransformer(alpha=1).fit(X_train_vec, y_train.values)\n",
    "X_train_nb = nbtransformer.transform(X_train_vec)\n",
    "X_test_nb = nbtransformer.transform(X_test_vec)"
   ]
  },
  {
   "cell_type": "code",
   "execution_count": 22,
   "metadata": {},
   "outputs": [
    {
     "name": "stdout",
     "output_type": "stream",
     "text": [
      "Wall time: 48.7 s\n"
     ]
    }
   ],
   "source": [
    "%%time\n",
    "# simple log reg\n",
    "lr = LogisticRegression(C=2)\n",
    "lr.fit(X_train_nb, y_train.values)"
   ]
  },
  {
   "cell_type": "code",
   "execution_count": 23,
   "metadata": {},
   "outputs": [
    {
     "data": {
      "text/plain": [
       "0.5481791352683304"
      ]
     },
     "execution_count": 23,
     "metadata": {},
     "output_type": "execute_result"
    }
   ],
   "source": [
    "# Scoring the model\n",
    "predictions_nbsvm = lr.predict(X_test_nb)\n",
    "metrics.f1_score(y_test, predictions_nbsvm)"
   ]
  },
  {
   "cell_type": "code",
   "execution_count": 24,
   "metadata": {},
   "outputs": [
    {
     "name": "stdout",
     "output_type": "stream",
     "text": [
      "{'threshold': 0.22, 'f1': 0.6009564759564758}\n"
     ]
    }
   ],
   "source": [
    "prediction_proba_nbsvm = lr.predict_proba(X_test_nb)\n",
    "search_result_nbsvm = threshold_search(y_test, prediction_proba_nbsvm[:,1])\n",
    "print(search_result_nbsvm)"
   ]
  },
  {
   "cell_type": "markdown",
   "metadata": {},
   "source": [
    "### Hyperparameter tuning\n",
    "Data leakage in grid search below as TfidfVectorizer and NBTransformer are fit to whole training data."
   ]
  },
  {
   "cell_type": "code",
   "execution_count": 35,
   "metadata": {},
   "outputs": [],
   "source": [
    "C = [0.01, 0.03, 0.1, 0.3, 1]\n",
    "num_folds = 6\n",
    "hyperparameters = dict(C=C)\n",
    "clfgs = GridSearchCV(LogisticRegression(), hyperparameters, cv=num_folds, scoring='f1', n_jobs=-1)"
   ]
  },
  {
   "cell_type": "code",
   "execution_count": 36,
   "metadata": {},
   "outputs": [
    {
     "name": "stderr",
     "output_type": "stream",
     "text": [
      "C:\\Users\\tprjo\\AppData\\Local\\conda\\conda\\envs\\py36\\lib\\site-packages\\sklearn\\linear_model\\logistic.py:432: FutureWarning: Default solver will be changed to 'lbfgs' in 0.22. Specify a solver to silence this warning.\n",
      "  FutureWarning)\n"
     ]
    },
    {
     "name": "stdout",
     "output_type": "stream",
     "text": [
      "Wall time: 1h 10min 38s\n"
     ]
    },
    {
     "data": {
      "text/plain": [
       "GridSearchCV(cv=6, error_score='raise-deprecating',\n",
       "       estimator=LogisticRegression(C=1.0, class_weight=None, dual=False, fit_intercept=True,\n",
       "          intercept_scaling=1, max_iter=100, multi_class='warn',\n",
       "          n_jobs=None, penalty='l2', random_state=None, solver='warn',\n",
       "          tol=0.0001, verbose=0, warm_start=False),\n",
       "       fit_params=None, iid='warn', n_jobs=-1,\n",
       "       param_grid={'C': [0.01, 0.03, 0.1, 0.3, 1, 3, 10, 30, 100, 300]},\n",
       "       pre_dispatch='2*n_jobs', refit=True, return_train_score='warn',\n",
       "       scoring='f1', verbose=0)"
      ]
     },
     "execution_count": 36,
     "metadata": {},
     "output_type": "execute_result"
    }
   ],
   "source": [
    "%%time\n",
    "clfgs.fit(X_train_nb, y_train.values)"
   ]
  },
  {
   "cell_type": "code",
   "execution_count": 40,
   "metadata": {},
   "outputs": [
    {
     "name": "stdout",
     "output_type": "stream",
     "text": [
      "0.5018010508171881\n",
      "{'C': 0.1}\n"
     ]
    }
   ],
   "source": [
    "print(clfgs.best_score_)\n",
    "print(clfgs.best_params_)"
   ]
  },
  {
   "cell_type": "code",
   "execution_count": 38,
   "metadata": {},
   "outputs": [
    {
     "name": "stdout",
     "output_type": "stream",
     "text": [
      "{'threshold': 0.17, 'f1': 0.6205894075446041}\n"
     ]
    }
   ],
   "source": [
    "best_est = clfgs.best_estimator_\n",
    "grid_predict = best_est.predict_proba(X_test_nb)\n",
    "search_result_grid = threshold_search(y_test, grid_predict[:,1])\n",
    "print(search_result_grid)"
   ]
  },
  {
   "cell_type": "code",
   "execution_count": 39,
   "metadata": {},
   "outputs": [
    {
     "name": "stdout",
     "output_type": "stream",
     "text": [
      "There are 2790864 feature words in the model\n"
     ]
    },
    {
     "data": {
      "image/png": "[encoded data removed]",
      "text/plain": [
       "<Figure size 1440x432 with 1 Axes>"
      ]
     },
     "metadata": {
      "needs_background": "light"
     },
     "output_type": "display_data"
    }
   ],
   "source": [
    "# Plotting most important coefficients\n",
    "coefs = pd.Series(best_est.coef_[0], index = tfidf_vec.get_feature_names())\n",
    "imp_coefs = pd.concat([coefs.sort_values().head(10), coefs.sort_values().tail(10)])\n",
    "imp_coefs.plot(kind = \"barh\", figsize=(20, 6))\n",
    "_ = plt.title(\"Coefficients for NBSVM after hyperparameter tuning\")\n",
    "print('There are {} feature words in the model'.format(len(coefs)))"
   ]
  },
  {
   "cell_type": "code",
   "execution_count": null,
   "metadata": {},
   "outputs": [],
   "source": []
  },
  {
   "cell_type": "code",
   "execution_count": null,
   "metadata": {},
   "outputs": [],
   "source": []
  },
  {
   "cell_type": "code",
   "execution_count": null,
   "metadata": {},
   "outputs": [],
   "source": []
  },
  {
   "cell_type": "code",
   "execution_count": null,
   "metadata": {},
   "outputs": [],
   "source": []
  }
 ],
 "metadata": {
  "kernelspec": {
   "display_name": "Python 3",
   "language": "python",
   "name": "python3"
  },
  "language_info": {
   "codemirror_mode": {
    "name": "ipython",
    "version": 3
   },
   "file_extension": ".py",
   "mimetype": "text/x-python",
   "name": "python",
   "nbconvert_exporter": "python",
   "pygments_lexer": "ipython3",
   "version": "3.6.7"
  }
 },
 "nbformat": 4,
 "nbformat_minor": 2
}
