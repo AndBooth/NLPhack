{
 "cells": [
  {
   "cell_type": "markdown",
   "metadata": {},
   "source": [
    "# Investigating GloVe embeddings\n",
    "Testing out Global Vector embeddings, see if performance is better."
   ]
  },
  {
   "cell_type": "code",
   "execution_count": 1,
   "metadata": {},
   "outputs": [
    {
     "name": "stderr",
     "output_type": "stream",
     "text": [
      "Using TensorFlow backend.\n"
     ]
    }
   ],
   "source": [
    "import operator \n",
    "from collections import defaultdict\n",
    "from time import time\n",
    "\n",
    "import numpy as np\n",
    "import matplotlib.pyplot as plt\n",
    "%matplotlib inline\n",
    "\n",
    "import pandas as pd\n",
    "from IPython.display import display\n",
    "pd.set_option('display.max_colwidth', -1)\n",
    "from tqdm import tqdm\n",
    "tqdm.pandas()\n",
    "\n",
    "import re\n",
    "\n",
    "from sklearn.preprocessing import StandardScaler\n",
    "from sklearn.model_selection import train_test_split\n",
    "from sklearn import metrics\n",
    "from sklearn.preprocessing import FunctionTransformer \n",
    "from sklearn.pipeline import Pipeline\n",
    "\n",
    "from tensorflow.keras import backend as K\n",
    "from tensorflow.keras.preprocessing.text import Tokenizer\n",
    "from tensorflow.keras.preprocessing.sequence import pad_sequences\n",
    "from tensorflow.keras.layers import Dense, Flatten, Activation, Dropout, Embedding, SpatialDropout1D, BatchNormalization\n",
    "from tensorflow.keras.layers import CuDNNLSTM, LSTM, Bidirectional, CuDNNGRU, GRU\n",
    "from tensorflow.keras.layers import GlobalAveragePooling1D, GlobalMaxPooling1D, Input, concatenate\n",
    "from tensorflow.keras import Sequential\n",
    "from tensorflow.keras.models import Model\n",
    "from tensorflow.keras.callbacks import TensorBoard\n",
    "from keras.callbacks import EarlyStopping\n",
    "from keras_tqdm import TQDMNotebookCallback\n",
    "\n",
    "from tensorflow.python.keras.layers import Layer\n",
    "from tensorflow.keras import initializers, regularizers, constraints, optimizers, layers"
   ]
  },
  {
   "cell_type": "code",
   "execution_count": 3,
   "metadata": {},
   "outputs": [],
   "source": [
    "def threshold_search(y_true, y_proba):\n",
    "    best_threshold = 0\n",
    "    best_score = 0\n",
    "    for threshold in [i * 0.01 for i in range(51)]:\n",
    "        score = metrics.f1_score(y_true=y_true, y_pred=y_proba > threshold)\n",
    "        if score > best_score:\n",
    "            best_threshold = threshold\n",
    "            best_score = score\n",
    "    search_result = {'threshold': best_threshold, 'f1': best_score}\n",
    "    return search_result"
   ]
  },
  {
   "cell_type": "code",
   "execution_count": 4,
   "metadata": {},
   "outputs": [],
   "source": [
    "class Attention(Layer):\n",
    "    def __init__(self,\n",
    "                 W_regularizer=None, b_regularizer=None,\n",
    "                 W_constraint=None, b_constraint=None,\n",
    "                 bias=True, **kwargs):\n",
    "        self.supports_masking = True\n",
    "        self.init = initializers.get('glorot_uniform')\n",
    "\n",
    "        self.W_regularizer = regularizers.get(W_regularizer)\n",
    "        self.b_regularizer = regularizers.get(b_regularizer)\n",
    "\n",
    "        self.W_constraint = constraints.get(W_constraint)\n",
    "        self.b_constraint = constraints.get(b_constraint)\n",
    "        \n",
    "        \n",
    "        self.bias = bias\n",
    "        self.step_dim = 0\n",
    "        self.features_dim = 0\n",
    "        super(Attention, self).__init__(**kwargs)\n",
    "\n",
    "    def build(self, input_shape):\n",
    "        assert len(input_shape) == 3\n",
    "        \n",
    "        self.step_dim = int(input_shape[1])\n",
    "        \n",
    "        self.W = self.add_weight('{}_W'.format(self.name),\n",
    "                                 (int(input_shape[-1]),),\n",
    "                                 initializer=self.init,\n",
    "                                 constraint=self.W_constraint,\n",
    "                                 regularizer=self.W_regularizer\n",
    "                                 )\n",
    "\n",
    "        self.features_dim = input_shape[-1]\n",
    "\n",
    "        if self.bias:\n",
    "            self.b = self.add_weight('{}_b'.format(self.name),\n",
    "                                     (int(input_shape[1]),),\n",
    "                                     initializer='zero',\n",
    "                                     regularizer=self.b_regularizer,\n",
    "                                     constraint=self.b_constraint)\n",
    "        else:\n",
    "            self.b = None\n",
    "\n",
    "        self.built = True\n",
    "\n",
    "    def compute_mask(self, input, input_mask=None):\n",
    "        return None\n",
    "\n",
    "    def call(self, x, mask=None):\n",
    "        features_dim = self.features_dim\n",
    "        step_dim = self.step_dim\n",
    "\n",
    "        eij = K.reshape(K.dot(K.reshape(x, (-1, features_dim)),\n",
    "                        K.reshape(self.W, (features_dim, 1))), (-1, step_dim))\n",
    "\n",
    "        if self.bias:\n",
    "            eij += self.b\n",
    "\n",
    "        eij = K.tanh(eij)\n",
    "        a = K.exp(eij)\n",
    "\n",
    "        if mask is not None:\n",
    "            a *= K.cast(mask, K.floatx())\n",
    "\n",
    "        a /= K.cast(K.sum(a, axis=1, keepdims=True) + K.epsilon(), K.floatx())\n",
    "\n",
    "        a = K.expand_dims(a)\n",
    "        \n",
    "        weighted_input = x * a\n",
    "        \n",
    "        return K.sum(weighted_input, axis=1)\n",
    "\n",
    "    def compute_output_shape(self, input_shape):\n",
    "        return input_shape[0],  self.features_dim"
   ]
  },
  {
   "cell_type": "code",
   "execution_count": 5,
   "metadata": {},
   "outputs": [],
   "source": [
    "class CustomMultiAttention(Layer):\n",
    "    '''An attention layer based upon this paper https://arxiv.org/pdf/1703.03130.pdf\n",
    "        If it doesn't work as planned then use Attention class above '''\n",
    "    def __init__(self, hidden_dim, attention_dim, attention_regularizer_weight=0, bias1=True, bias2=True,\n",
    "                 W1_regularizer=None, W2_regularizer=None,\n",
    "                 W1_constraint=None, W2_constraint=None,\n",
    "                 b1_regularizer=None, b2_regularizer=None,\n",
    "                 b1_constraint=None, b2_constraint=None,\n",
    "                 \n",
    "                  **kwargs):\n",
    "        self.supports_masking = False\n",
    "        self.init = initializers.get('glorot_uniform')\n",
    "\n",
    "        self.W1_regularizer = regularizers.get(W1_regularizer)\n",
    "        self.W2_regularizer = regularizers.get(W2_regularizer)\n",
    "\n",
    "        self.W1_constraint = constraints.get(W1_constraint)\n",
    "        self.W2_constraint = constraints.get(W2_constraint)\n",
    "        \n",
    "        self.b1_regularizer = regularizers.get(b1_regularizer)\n",
    "        self.b2_regularizer = regularizers.get(b2_regularizer)\n",
    "        \n",
    "        self.b1_constraint = constraints.get(b1_constraint)\n",
    "        self.b2_constraint = constraints.get(b2_constraint)\n",
    "        \n",
    "        self.bias1 = bias1\n",
    "        self.bias2 = bias2\n",
    "        \n",
    "        self.attention_regularizer_weight = attention_regularizer_weight\n",
    "        self.attention_dim = attention_dim\n",
    "        \n",
    "        self.step_dim = 0\n",
    "        self.features_dim = 0\n",
    "        self.hidden_dim = hidden_dim\n",
    "        super(CustomMultiAttention, self).__init__(**kwargs)\n",
    "\n",
    "    def build(self, input_shape):\n",
    "        assert len(input_shape) == 3\n",
    "        \n",
    "        self.features_dim = int(input_shape[-1])\n",
    "        self.step_dim = int(input_shape[1])\n",
    "        \n",
    "        self.W1 = self.add_weight('{}_W1'.format(self.name),\n",
    "                                 (self.hidden_dim, self.features_dim),\n",
    "                                 initializer=self.init,\n",
    "                                 constraint=self.W1_constraint,\n",
    "                                 regularizer=self.W1_regularizer\n",
    "                                 )\n",
    "\n",
    "        \n",
    "        self.W2 = self.add_weight('{}_W2'.format(self.name),\n",
    "                                 (self.attention_dim, self.hidden_dim),\n",
    "                                 initializer=self.init,\n",
    "                                 constraint=self.W2_constraint,\n",
    "                                 regularizer=self.W2_regularizer\n",
    "                                 )\n",
    "        \n",
    "        \n",
    "        if self.bias1:\n",
    "            self.b1 = self.add_weight('{}_b1'.format(self.name),\n",
    "                                      (self.hidden_dim, self.step_dim),\n",
    "                                      initializer='zero',\n",
    "                                      constraint=self.b1_constraint,\n",
    "                                      regularizer=self.b1_regularizer\n",
    "                                      )\n",
    "            \n",
    "        if self.bias2:\n",
    "            self.b2 = self.add_weight('{}_b2'.format(self.name),\n",
    "                                      (self.attention_dim, self.step_dim),\n",
    "                                      initializer='zero',\n",
    "                                      constraint=self.b2_constraint,\n",
    "                                     regularizer=self.b2_regularizer)\n",
    "        \n",
    "            \n",
    "        self.built = True\n",
    "\n",
    "\n",
    "    def call(self, x):\n",
    "        features_dim = self.features_dim\n",
    "        step_dim = self.step_dim\n",
    "        hidden_dim = self.hidden_dim\n",
    "        \n",
    "        H = x\n",
    "        Htp = K.permute_dimensions(x, (0, 2, 1))\n",
    "        \n",
    "        temp = K.dot(self.W1, Htp)\n",
    "        temp = K.permute_dimensions(temp, (1, 0, 2))\n",
    "        \n",
    "        if self.bias1:\n",
    "            temp += self.b1\n",
    "        \n",
    "        temp = K.tanh(temp)\n",
    "        temp = K.dot(self.W2, temp)\n",
    "        \n",
    "        if self.bias2:\n",
    "            temp += self.b2\n",
    "    \n",
    "        A = K.softmax(temp, axis=-1)\n",
    "        A = K.permute_dimensions(A, (1, 0, 2))\n",
    "        \n",
    "        \n",
    "        if self.attention_regularizer_weight > 0.0:\n",
    "            self.add_loss(self._attention_regularizer(A))\n",
    "        \n",
    "        if self.attention_dim == 1:\n",
    "            A = K.squeeze(A, axis=1)\n",
    "            \n",
    "        sent_embed = K.batch_dot(A, H)\n",
    "        \n",
    "        return sent_embed\n",
    "\n",
    "    def compute_output_shape(self, input_shape):\n",
    "        if self.attention_dim == 1:\n",
    "            return input_shape[0],  self.features_dim\n",
    "        else:\n",
    "            return input_shape[0], self.attention_dim, self.features_dim\n",
    "        \n",
    "        \n",
    "    def _attention_regularizer(self, attention):\n",
    "            batch_size = K.cast(K.shape(attention)[0], K.floatx())\n",
    "             \n",
    "            loss = self.attention_regularizer_weight * K.sum(K.square(K.sum(K.batch_dot(\n",
    "                   attention,\n",
    "                   K.permute_dimensions(attention, (0, 2, 1))), axis=0) - K.eye(self.attention_dim))) / batch_size\n",
    "            \n",
    "            return loss"
   ]
  },
  {
   "cell_type": "markdown",
   "metadata": {},
   "source": [
    "## Import data"
   ]
  },
  {
   "cell_type": "code",
   "execution_count": 6,
   "metadata": {},
   "outputs": [
    {
     "name": "stdout",
     "output_type": "stream",
     "text": [
      "(1306122, 3)\n"
     ]
    }
   ],
   "source": [
    "train = pd.read_csv('../../data/train.csv')\n",
    "#test = pd.read_csv('../../data/test.csv')\n",
    "print(train.shape)\n",
    "#print(test.shape)\n",
    "train.fillna('_na_', inplace=True)"
   ]
  },
  {
   "cell_type": "code",
   "execution_count": 7,
   "metadata": {},
   "outputs": [],
   "source": [
    "# Load Embedding file using google news word2vec\n",
    "EMBEDDING_FILE = '../../data/embeddings/glove.840B.300d/glove.840B.300d.txt'\n",
    "def get_coefs(word,*arr): return word, np.asarray(arr, dtype='float32')\n",
    "embeddings_index = dict(get_coefs(*o.split(\" \")) for o in open(EMBEDDING_FILE,  encoding=\"utf8\"))\n"
   ]
  },
  {
   "cell_type": "code",
   "execution_count": 8,
   "metadata": {},
   "outputs": [],
   "source": [
    "EMBEDDING_DIM = len(embeddings_index['word'])"
   ]
  },
  {
   "cell_type": "markdown",
   "metadata": {},
   "source": [
    "## Preprocessing"
   ]
  },
  {
   "cell_type": "code",
   "execution_count": 9,
   "metadata": {},
   "outputs": [],
   "source": [
    "def build_vocab(sentences, verbose =  True):\n",
    "    \"\"\"\n",
    "    :param sentences: list of list of words\n",
    "    :return: dictionary of words and their count\n",
    "    \"\"\"\n",
    "    vocab = {}\n",
    "    for sentence in tqdm(sentences, disable = (not verbose)):\n",
    "        for word in sentence:\n",
    "            try:\n",
    "                vocab[word] += 1\n",
    "            except KeyError:\n",
    "                vocab[word] = 1\n",
    "    return vocab"
   ]
  },
  {
   "cell_type": "code",
   "execution_count": 10,
   "metadata": {},
   "outputs": [],
   "source": [
    "def check_coverage(vocab,embeddings_index):\n",
    "    a = {}\n",
    "    oov = {}\n",
    "    covered_word_count = 0\n",
    "    oov_word_count = 0\n",
    "    for word in tqdm(vocab):\n",
    "        try:\n",
    "            a[word] = embeddings_index[word]\n",
    "            covered_word_count += vocab[word]\n",
    "        except:\n",
    "\n",
    "            oov[word] = vocab[word]\n",
    "            oov_word_count += vocab[word]\n",
    "            pass\n",
    "\n",
    "    print('Found embeddings for {:.2%} of vocab'.format(len(a) / len(vocab)))\n",
    "    print('Found embeddings for  {:.2%} of all text'.format(covered_word_count / (covered_word_count + oov_word_count)))\n",
    "    sorted_x = sorted(oov.items(), key=operator.itemgetter(1))[::-1]\n",
    "\n",
    "    return sorted_x"
   ]
  },
  {
   "cell_type": "code",
   "execution_count": 11,
   "metadata": {},
   "outputs": [
    {
     "name": "stderr",
     "output_type": "stream",
     "text": [
      "100%|████████████████████████████████████████████████████████████████████| 1306122/1306122 [00:07<00:00, 165377.46it/s]\n",
      "100%|██████████████████████████████████████████████████████████████████████| 508823/508823 [00:00<00:00, 550740.02it/s]\n"
     ]
    },
    {
     "name": "stdout",
     "output_type": "stream",
     "text": [
      "Found embeddings for 33.16% of vocab\n",
      "Found embeddings for  88.16% of all text\n"
     ]
    }
   ],
   "source": [
    "sentences = list(map(lambda sent: sent.split(), train[\"question_text\"]))\n",
    "vocab = build_vocab(sentences) \n",
    "\n",
    "oov = check_coverage(vocab, embeddings_index)"
   ]
  },
  {
   "cell_type": "code",
   "execution_count": 12,
   "metadata": {},
   "outputs": [
    {
     "data": {
      "text/plain": [
       "[('India?', 16384),\n",
       " ('it?', 12900),\n",
       " (\"What's\", 12425),\n",
       " ('do?', 8753),\n",
       " ('life?', 7753),\n",
       " ('you?', 6295),\n",
       " ('me?', 6202),\n",
       " ('them?', 6140),\n",
       " ('time?', 5716),\n",
       " ('world?', 5386),\n",
       " ('people?', 4971),\n",
       " ('why?', 4943),\n",
       " ('Quora?', 4655),\n",
       " ('like?', 4487),\n",
       " ('for?', 4450),\n",
       " ('work?', 4206),\n",
       " ('2017?', 4050),\n",
       " ('mean?', 3971),\n",
       " ('2018?', 3594),\n",
       " ('country?', 3422)]"
      ]
     },
     "execution_count": 12,
     "metadata": {},
     "output_type": "execute_result"
    }
   ],
   "source": [
    "oov[:20]"
   ]
  },
  {
   "cell_type": "code",
   "execution_count": 13,
   "metadata": {},
   "outputs": [],
   "source": [
    "#for symbol in '?!.,\"#$%\\'()*+-/:;<=>@[\\\\]^_`{|}~/-&“”’':\n",
    "#    print(symbol, symbol in embeddings_index)"
   ]
  },
  {
   "cell_type": "code",
   "execution_count": 14,
   "metadata": {},
   "outputs": [],
   "source": [
    "def space_punct(x):\n",
    "    x = str(x)\n",
    "    for punct in '?!.,\"#$%\\'()*+-/:;<=>@[\\\\]^_`{|}~/-&“”’':\n",
    "        x = x.replace(punct, f' {punct} ')\n",
    "    return x"
   ]
  },
  {
   "cell_type": "code",
   "execution_count": 15,
   "metadata": {},
   "outputs": [
    {
     "name": "stderr",
     "output_type": "stream",
     "text": [
      "100%|████████████████████████████████████████████████████████████████████| 1306122/1306122 [00:09<00:00, 143949.84it/s]\n"
     ]
    }
   ],
   "source": [
    "train[\"question_text\"] = train[\"question_text\"].apply(lambda x: space_punct(x))\n",
    "sentences = train[\"question_text\"].apply(lambda x: x.split())\n",
    "vocab = build_vocab(sentences)"
   ]
  },
  {
   "cell_type": "code",
   "execution_count": 16,
   "metadata": {},
   "outputs": [
    {
     "name": "stderr",
     "output_type": "stream",
     "text": [
      "100%|██████████████████████████████████████████████████████████████████████| 242041/242041 [00:00<00:00, 479608.95it/s]\n"
     ]
    },
    {
     "name": "stdout",
     "output_type": "stream",
     "text": [
      "Found embeddings for 74.04% of vocab\n",
      "Found embeddings for  99.56% of all text\n"
     ]
    }
   ],
   "source": [
    "oov = check_coverage(vocab,embeddings_index)"
   ]
  },
  {
   "cell_type": "code",
   "execution_count": 17,
   "metadata": {},
   "outputs": [
    {
     "data": {
      "text/plain": [
       "[('Quorans', 856),\n",
       " ('Brexit', 493),\n",
       " ('cryptocurrencies', 481),\n",
       " ('Redmi', 379),\n",
       " ('OnePlus', 125),\n",
       " ('UCEED', 123),\n",
       " ('Blockchain', 112),\n",
       " ('GDPR', 107),\n",
       " ('demonetisation', 106),\n",
       " ('Coinbase', 105),\n",
       " ('BNBR', 99),\n",
       " ('Adityanath', 99),\n",
       " ('Machedo', 99),\n",
       " ('Boruto', 93),\n",
       " ('ethereum', 89),\n",
       " ('DCEU', 89),\n",
       " ('IIEST', 85),\n",
       " ('Qoura', 79),\n",
       " ('SJWs', 79),\n",
       " ('Upwork', 70)]"
      ]
     },
     "execution_count": 17,
     "metadata": {},
     "output_type": "execute_result"
    }
   ],
   "source": [
    "oov[:20]"
   ]
  },
  {
   "cell_type": "code",
   "execution_count": 18,
   "metadata": {
    "scrolled": true
   },
   "outputs": [],
   "source": [
    "# Remove all words that are not in the embedding\n",
    "remove_not_in_embed = lambda sent: ' '.join([word for word in sent.split() if word in embeddings_index])\n",
    "train[\"question_text\"] = train[\"question_text\"].apply(remove_not_in_embed)\n",
    "#test[\"question_text\"] = test[\"question_text\"].progress_apply(remove_not_in_embed)"
   ]
  },
  {
   "cell_type": "code",
   "execution_count": 19,
   "metadata": {},
   "outputs": [
    {
     "name": "stderr",
     "output_type": "stream",
     "text": [
      "100%|████████████████████████████████████████████████████████████████████| 1306122/1306122 [00:07<00:00, 177761.45it/s]\n"
     ]
    }
   ],
   "source": [
    "sentences = train[\"question_text\"].apply(lambda x: x.split())\n",
    "vocab = build_vocab(sentences)"
   ]
  },
  {
   "cell_type": "code",
   "execution_count": 20,
   "metadata": {},
   "outputs": [
    {
     "name": "stderr",
     "output_type": "stream",
     "text": [
      "100%|██████████████████████████████████████████████████████████████████████| 179210/179210 [00:00<00:00, 415708.49it/s]\n"
     ]
    },
    {
     "name": "stdout",
     "output_type": "stream",
     "text": [
      "Found embeddings for 100.00% of vocab\n",
      "Found embeddings for  100.00% of all text\n",
      "Vocabulary size is 179210\n"
     ]
    }
   ],
   "source": [
    "oov = check_coverage(vocab, embeddings_index)\n",
    "vocab_size = len(vocab)\n",
    "print(f'Vocabulary size is {vocab_size}')"
   ]
  },
  {
   "cell_type": "code",
   "execution_count": 21,
   "metadata": {},
   "outputs": [
    {
     "name": "stdout",
     "output_type": "stream",
     "text": [
      "Found 179210 unique tokens.\n"
     ]
    }
   ],
   "source": [
    "# Learn a number for each word \n",
    "tk = Tokenizer(lower=False, filters='')\n",
    "tk.fit_on_texts(sentences)\n",
    "\n",
    "# Dictionary to convert word to its number\n",
    "word_index = tk.word_index\n",
    "print('Found %s unique tokens.' % len(word_index))"
   ]
  },
  {
   "cell_type": "code",
   "execution_count": 22,
   "metadata": {},
   "outputs": [],
   "source": [
    "# Convert each word to a number \n",
    "sequences = tk.texts_to_sequences(sentences)"
   ]
  },
  {
   "cell_type": "code",
   "execution_count": 23,
   "metadata": {},
   "outputs": [],
   "source": [
    "MAX_SEQUENCE_LENGTH = 50\n",
    "padded_sequences = pad_sequences(sequences, maxlen=MAX_SEQUENCE_LENGTH)"
   ]
  },
  {
   "cell_type": "code",
   "execution_count": null,
   "metadata": {},
   "outputs": [],
   "source": []
  },
  {
   "cell_type": "code",
   "execution_count": 24,
   "metadata": {},
   "outputs": [],
   "source": [
    "# Create embeddings matrix, will be vocab size + 1 x embedding size  (+1 something to do with mask)\n",
    "embedding_matrix = np.zeros((len(word_index) + 1, EMBEDDING_DIM))\n",
    "\n",
    "for word, i in word_index.items():\n",
    "    embedding_vector = embeddings_index[word]\n",
    "    if embedding_vector is not None:\n",
    "        # words not found in embedding index will be all-zeros.\n",
    "        embedding_matrix[i] = embedding_vector"
   ]
  },
  {
   "cell_type": "markdown",
   "metadata": {},
   "source": [
    "## Create Model"
   ]
  },
  {
   "cell_type": "code",
   "execution_count": 25,
   "metadata": {},
   "outputs": [],
   "source": [
    "X_train, X_test, y_train, y_test = train_test_split(padded_sequences, train['target'].values, test_size=0.1, random_state=42, stratify=train['target'].values)"
   ]
  },
  {
   "cell_type": "code",
   "execution_count": 50,
   "metadata": {},
   "outputs": [
    {
     "name": "stdout",
     "output_type": "stream",
     "text": [
      "_________________________________________________________________\n",
      "Layer (type)                 Output Shape              Param #   \n",
      "=================================================================\n",
      "embedding (Embedding)        (None, 50, 300)           53763300  \n",
      "_________________________________________________________________\n",
      "spatial_dropout1d (SpatialDr (None, 50, 300)           0         \n",
      "_________________________________________________________________\n",
      "bidirectional (Bidirectional (None, 50, 128)           187392    \n",
      "_________________________________________________________________\n",
      "dropout (Dropout)            (None, 50, 128)           0         \n",
      "_________________________________________________________________\n",
      "bidirectional_1 (Bidirection (None, 50, 128)           99328     \n",
      "_________________________________________________________________\n",
      "dropout_1 (Dropout)          (None, 50, 128)           0         \n",
      "_________________________________________________________________\n",
      "custom_multi_attention (Cust (None, 128)               2914      \n",
      "_________________________________________________________________\n",
      "dropout_2 (Dropout)          (None, 128)               0         \n",
      "_________________________________________________________________\n",
      "flatten (Flatten)            (None, 128)               0         \n",
      "_________________________________________________________________\n",
      "dense (Dense)                (None, 256)               33024     \n",
      "_________________________________________________________________\n",
      "dropout_3 (Dropout)          (None, 256)               0         \n",
      "_________________________________________________________________\n",
      "dense_1 (Dense)              (None, 1)                 257       \n",
      "_________________________________________________________________\n",
      "activation (Activation)      (None, 1)                 0         \n",
      "=================================================================\n",
      "Total params: 54,086,215\n",
      "Trainable params: 322,915\n",
      "Non-trainable params: 53,763,300\n",
      "_________________________________________________________________\n"
     ]
    }
   ],
   "source": [
    "K.clear_session()\n",
    "\n",
    "model = Sequential()\n",
    "model.add(Embedding(len(word_index) + 1,\n",
    "                     EMBEDDING_DIM,\n",
    "                     weights=[embedding_matrix],\n",
    "                     input_length=MAX_SEQUENCE_LENGTH,\n",
    "                     trainable=False))\n",
    "model.add(SpatialDropout1D(0.3))\n",
    "\n",
    "model.add(Bidirectional(CuDNNLSTM(64, return_sequences=True)))\n",
    "model.add(Dropout(0.3))\n",
    "\n",
    "model.add(Bidirectional(CuDNNLSTM(64, return_sequences=True)))\n",
    "model.add(Dropout(0.3))\n",
    "\n",
    "\n",
    "model.add(CustomMultiAttention(16, 1, attention_regularizer_weight=0.01))\n",
    "model.add(Dropout(0.4))\n",
    "\n",
    "model.add(Flatten())\n",
    "\n",
    "model.add(Dense(256, activation='relu'))\n",
    "model.add(Dropout(0.4))\n",
    "\n",
    "model.add(Dense(1))\n",
    "model.add(Activation('sigmoid'))\n",
    "\n",
    "model.compile(loss='binary_crossentropy', optimizer='adam')\n",
    "model.summary()"
   ]
  },
  {
   "cell_type": "code",
   "execution_count": 51,
   "metadata": {
    "scrolled": true
   },
   "outputs": [
    {
     "data": {
      "application/vnd.jupyter.widget-view+json": {
       "model_id": "a32c224aa47347249de368351512ea62",
       "version_major": 2,
       "version_minor": 0
      },
      "text/plain": [
       "HBox(children=(IntProgress(value=0, description='Training', max=20, style=ProgressStyle(description_width='ini…"
      ]
     },
     "metadata": {},
     "output_type": "display_data"
    },
    {
     "data": {
      "application/vnd.jupyter.widget-view+json": {
       "model_id": "08e467084373458fa330b2354b1bbaa9",
       "version_major": 2,
       "version_minor": 0
      },
      "text/plain": [
       "HBox(children=(IntProgress(value=0, description='Epoch 0', max=1175509, style=ProgressStyle(description_width=…"
      ]
     },
     "metadata": {},
     "output_type": "display_data"
    },
    {
     "data": {
      "application/vnd.jupyter.widget-view+json": {
       "model_id": "fa06e5d5205d44f2b13422a6f050f6a8",
       "version_major": 2,
       "version_minor": 0
      },
      "text/plain": [
       "HBox(children=(IntProgress(value=0, description='Epoch 1', max=1175509, style=ProgressStyle(description_width=…"
      ]
     },
     "metadata": {},
     "output_type": "display_data"
    },
    {
     "data": {
      "application/vnd.jupyter.widget-view+json": {
       "model_id": "7eb9ab752aae4eb6a1afbd07cea27966",
       "version_major": 2,
       "version_minor": 0
      },
      "text/plain": [
       "HBox(children=(IntProgress(value=0, description='Epoch 2', max=1175509, style=ProgressStyle(description_width=…"
      ]
     },
     "metadata": {},
     "output_type": "display_data"
    },
    {
     "data": {
      "application/vnd.jupyter.widget-view+json": {
       "model_id": "174a2e8d55774509ae4e3930280c44b4",
       "version_major": 2,
       "version_minor": 0
      },
      "text/plain": [
       "HBox(children=(IntProgress(value=0, description='Epoch 3', max=1175509, style=ProgressStyle(description_width=…"
      ]
     },
     "metadata": {},
     "output_type": "display_data"
    },
    {
     "data": {
      "application/vnd.jupyter.widget-view+json": {
       "model_id": "2c7ea8ac07344afcb1ead90439afdb05",
       "version_major": 2,
       "version_minor": 0
      },
      "text/plain": [
       "HBox(children=(IntProgress(value=0, description='Epoch 4', max=1175509, style=ProgressStyle(description_width=…"
      ]
     },
     "metadata": {},
     "output_type": "display_data"
    },
    {
     "data": {
      "application/vnd.jupyter.widget-view+json": {
       "model_id": "5ce508f3226b41b78c320b7aa85fccb2",
       "version_major": 2,
       "version_minor": 0
      },
      "text/plain": [
       "HBox(children=(IntProgress(value=0, description='Epoch 5', max=1175509, style=ProgressStyle(description_width=…"
      ]
     },
     "metadata": {},
     "output_type": "display_data"
    },
    {
     "data": {
      "application/vnd.jupyter.widget-view+json": {
       "model_id": "a32e2addcdf94e69b3e2ca6b9d000bfc",
       "version_major": 2,
       "version_minor": 0
      },
      "text/plain": [
       "HBox(children=(IntProgress(value=0, description='Epoch 6', max=1175509, style=ProgressStyle(description_width=…"
      ]
     },
     "metadata": {},
     "output_type": "display_data"
    },
    {
     "name": "stdout",
     "output_type": "stream",
     "text": [
      "\n",
      "Wall time: 21min 40s\n"
     ]
    }
   ],
   "source": [
    "%%time\n",
    "num_epochs = 20\n",
    "callback = EarlyStopping(patience=2, monitor='val_loss', min_delta=0.001, restore_best_weights=True)\n",
    "seqModel = model.fit(X_train, y=y_train, batch_size=512, epochs=num_epochs,\n",
    "                     verbose=0, validation_data=(X_test, y_test), callbacks=[callback, TQDMNotebookCallback(leave_inner=True, leave_outer=True)])"
   ]
  },
  {
   "cell_type": "code",
   "execution_count": 52,
   "metadata": {},
   "outputs": [
    {
     "data": {
      "text/plain": [
       "0.6772949344304449"
      ]
     },
     "execution_count": 52,
     "metadata": {},
     "output_type": "execute_result"
    }
   ],
   "source": [
    "keras_predict = model.predict_classes(X_test)\n",
    "metrics.f1_score(y_test, keras_predict)"
   ]
  },
  {
   "cell_type": "code",
   "execution_count": 53,
   "metadata": {},
   "outputs": [
    {
     "name": "stdout",
     "output_type": "stream",
     "text": [
      "{'threshold': 0.39, 'f1': 0.7273342795015689}\n"
     ]
    },
    {
     "data": {
      "text/plain": [
       "0.6891390182096765"
      ]
     },
     "execution_count": 53,
     "metadata": {},
     "output_type": "execute_result"
    }
   ],
   "source": [
    "keras_train_probas = model.predict(X_train)\n",
    "keras_search = threshold_search(y_train, keras_train_probas)\n",
    "print(keras_search)\n",
    "\n",
    "keras_test_probas = model.predict(X_test)\n",
    "threshold_predictions = keras_test_probas > keras_search['threshold']\n",
    "\n",
    "metrics.f1_score(y_test, threshold_predictions)"
   ]
  },
  {
   "cell_type": "code",
   "execution_count": 54,
   "metadata": {},
   "outputs": [
    {
     "data": {
      "image/png": "[encoded data removed]",
      "text/plain": [
       "<Figure size 1440x432 with 1 Axes>"
      ]
     },
     "metadata": {
      "needs_background": "light"
     },
     "output_type": "display_data"
    }
   ],
   "source": [
    "# visualizing losses and accuracy\n",
    "train_loss = seqModel.history['loss']\n",
    "val_loss   = seqModel.history['val_loss']\n",
    "num_trained_epochs = len(train_loss)\n",
    "xc         = np.array(list(range(num_trained_epochs))) + 1\n",
    "\n",
    "plt.figure(figsize=(20, 6))\n",
    "plt.plot(xc, train_loss)\n",
    "plt.plot(xc, val_loss)\n",
    "plt.xlabel('Epoch')\n",
    "_ = plt.xticks([x+1 for x in range(num_trained_epochs)])\n",
    "plt.ylabel('Binary cross-entropy')\n",
    "plt.legend(['Train', 'Validation'])\n",
    "_ = plt.title('Training and Validation loss')"
   ]
  },
  {
   "cell_type": "markdown",
   "metadata": {},
   "source": [
    "## Next model"
   ]
  },
  {
   "cell_type": "code",
   "execution_count": 47,
   "metadata": {},
   "outputs": [],
   "source": [
    "K.clear_session()\n",
    "\n",
    "inp = Input(shape=(MAX_SEQUENCE_LENGTH,))\n",
    "x = Embedding(len(word_index) + 1, EMBEDDING_DIM, weights=[embedding_matrix], trainable=False)(inp)\n",
    "x = SpatialDropout1D(0.1)(x)\n",
    "x = Bidirectional(CuDNNLSTM(40, return_sequences=True))(x)\n",
    "y = Bidirectional(CuDNNGRU(40, return_sequences=True))(x)\n",
    "    \n",
    "atten_1 = CustomMultiAttention(16, 1, 0.01)(x) # skip connect\n",
    "atten_2 = CustomMultiAttention(16, 1, 0.01)(y)\n",
    "avg_pool = GlobalAveragePooling1D()(y)\n",
    "max_pool = GlobalMaxPooling1D()(y)\n",
    "    \n",
    "conc = concatenate([atten_1, atten_2, avg_pool, max_pool])\n",
    "conc = Dense(16, activation=\"relu\")(conc)\n",
    "conc = Dropout(0.1)(conc)\n",
    "outp = Dense(1, activation=\"sigmoid\")(conc)    \n",
    "\n",
    "model2 = Model(inputs=inp, outputs=outp)\n",
    "model2.compile(loss='binary_crossentropy', optimizer='adam', metrics=['accuracy'])"
   ]
  },
  {
   "cell_type": "code",
   "execution_count": 48,
   "metadata": {},
   "outputs": [
    {
     "data": {
      "application/vnd.jupyter.widget-view+json": {
       "model_id": "0bde933b8b4844eda4735669f5b0f688",
       "version_major": 2,
       "version_minor": 0
      },
      "text/plain": [
       "HBox(children=(IntProgress(value=0, description='Training', max=20, style=ProgressStyle(description_width='ini…"
      ]
     },
     "metadata": {},
     "output_type": "display_data"
    },
    {
     "data": {
      "application/vnd.jupyter.widget-view+json": {
       "model_id": "b9f652fb5bec418698ba752de6a3f946",
       "version_major": 2,
       "version_minor": 0
      },
      "text/plain": [
       "HBox(children=(IntProgress(value=0, description='Epoch 0', max=1175509, style=ProgressStyle(description_width=…"
      ]
     },
     "metadata": {},
     "output_type": "display_data"
    },
    {
     "data": {
      "application/vnd.jupyter.widget-view+json": {
       "model_id": "120948d754844ebb983784a0ca9f9f5d",
       "version_major": 2,
       "version_minor": 0
      },
      "text/plain": [
       "HBox(children=(IntProgress(value=0, description='Epoch 1', max=1175509, style=ProgressStyle(description_width=…"
      ]
     },
     "metadata": {},
     "output_type": "display_data"
    },
    {
     "data": {
      "application/vnd.jupyter.widget-view+json": {
       "model_id": "b4caec63cf9043e1a4b247e00a9a01be",
       "version_major": 2,
       "version_minor": 0
      },
      "text/plain": [
       "HBox(children=(IntProgress(value=0, description='Epoch 2', max=1175509, style=ProgressStyle(description_width=…"
      ]
     },
     "metadata": {},
     "output_type": "display_data"
    },
    {
     "data": {
      "application/vnd.jupyter.widget-view+json": {
       "model_id": "8ad72807f0724366adfa4f3c82dca16d",
       "version_major": 2,
       "version_minor": 0
      },
      "text/plain": [
       "HBox(children=(IntProgress(value=0, description='Epoch 3', max=1175509, style=ProgressStyle(description_width=…"
      ]
     },
     "metadata": {},
     "output_type": "display_data"
    },
    {
     "data": {
      "application/vnd.jupyter.widget-view+json": {
       "model_id": "c816ff93dad342ec8b49fdf8717f2c47",
       "version_major": 2,
       "version_minor": 0
      },
      "text/plain": [
       "HBox(children=(IntProgress(value=0, description='Epoch 4', max=1175509, style=ProgressStyle(description_width=…"
      ]
     },
     "metadata": {},
     "output_type": "display_data"
    },
    {
     "name": "stdout",
     "output_type": "stream",
     "text": [
      "\n",
      "Wall time: 13min 22s\n"
     ]
    }
   ],
   "source": [
    "%%time\n",
    "num_epochs = 20\n",
    "callback = EarlyStopping(patience=2, monitor='val_loss', min_delta=0.001, restore_best_weights=True)\n",
    "seqModel2 = model2.fit(X_train, y=y_train, batch_size=512, epochs=num_epochs,\n",
    "                     verbose=0, validation_data=(X_test, y_test), callbacks=[callback, TQDMNotebookCallback(leave_inner=True, leave_outer=True)])"
   ]
  },
  {
   "cell_type": "code",
   "execution_count": 50,
   "metadata": {},
   "outputs": [
    {
     "data": {
      "text/plain": [
       "0.6784944873906983"
      ]
     },
     "execution_count": 50,
     "metadata": {},
     "output_type": "execute_result"
    }
   ],
   "source": [
    "keras_predict2 = model2.predict(X_test) > 0.5\n",
    "metrics.f1_score(y_test, keras_predict2)"
   ]
  },
  {
   "cell_type": "code",
   "execution_count": 51,
   "metadata": {},
   "outputs": [
    {
     "name": "stdout",
     "output_type": "stream",
     "text": [
      "{'threshold': 0.39, 'f1': 0.7270727150826353}\n"
     ]
    },
    {
     "data": {
      "text/plain": [
       "0.6893101012479397"
      ]
     },
     "execution_count": 51,
     "metadata": {},
     "output_type": "execute_result"
    }
   ],
   "source": [
    "keras_train_probas2 = model2.predict(X_train)\n",
    "keras_search2 = threshold_search(y_train, keras_train_probas2)\n",
    "print(keras_search2)\n",
    "\n",
    "keras_test_probas2 = model2.predict(X_test)\n",
    "threshold_predictions2 = keras_test_probas2 > keras_search2['threshold']\n",
    "\n",
    "metrics.f1_score(y_test, threshold_predictions2)"
   ]
  },
  {
   "cell_type": "code",
   "execution_count": 49,
   "metadata": {},
   "outputs": [
    {
     "name": "stdout",
     "output_type": "stream",
     "text": [
      "__________________________________________________________________________________________________\n",
      "Layer (type)                    Output Shape         Param #     Connected to                     \n",
      "==================================================================================================\n",
      "input_4 (InputLayer)            (None, 50)           0                                            \n",
      "__________________________________________________________________________________________________\n",
      "embedding_4 (Embedding)         (None, 50, 300)      53763300    input_4[0][0]                    \n",
      "__________________________________________________________________________________________________\n",
      "spatial_dropout1d_4 (SpatialDro (None, 50, 300)      0           embedding_4[0][0]                \n",
      "__________________________________________________________________________________________________\n",
      "bidirectional_8 (Bidirectional) (None, 50, 80)       109440      spatial_dropout1d_4[0][0]        \n",
      "__________________________________________________________________________________________________\n",
      "bidirectional_9 (Bidirectional) (None, 50, 80)       29280       bidirectional_8[0][0]            \n",
      "__________________________________________________________________________________________________\n",
      "custom_multi_attention_3 (Custo (None, 80)           2146        bidirectional_8[0][0]            \n",
      "__________________________________________________________________________________________________\n",
      "custom_multi_attention_4 (Custo (None, 80)           2146        bidirectional_9[0][0]            \n",
      "__________________________________________________________________________________________________\n",
      "global_average_pooling1d_3 (Glo (None, 80)           0           bidirectional_9[0][0]            \n",
      "__________________________________________________________________________________________________\n",
      "global_max_pooling1d_3 (GlobalM (None, 80)           0           bidirectional_9[0][0]            \n",
      "__________________________________________________________________________________________________\n",
      "concatenate_3 (Concatenate)     (None, 320)          0           custom_multi_attention_3[0][0]   \n",
      "                                                                 custom_multi_attention_4[0][0]   \n",
      "                                                                 global_average_pooling1d_3[0][0] \n",
      "                                                                 global_max_pooling1d_3[0][0]     \n",
      "__________________________________________________________________________________________________\n",
      "dense_8 (Dense)                 (None, 16)           5136        concatenate_3[0][0]              \n",
      "__________________________________________________________________________________________________\n",
      "dropout_7 (Dropout)             (None, 16)           0           dense_8[0][0]                    \n",
      "__________________________________________________________________________________________________\n",
      "dense_9 (Dense)                 (None, 1)            17          dropout_7[0][0]                  \n",
      "==================================================================================================\n",
      "Total params: 53,911,465\n",
      "Trainable params: 148,165\n",
      "Non-trainable params: 53,763,300\n",
      "__________________________________________________________________________________________________\n"
     ]
    }
   ],
   "source": [
    "model2.summary()"
   ]
  },
  {
   "cell_type": "code",
   "execution_count": null,
   "metadata": {},
   "outputs": [],
   "source": []
  }
 ],
 "metadata": {
  "kernelspec": {
   "display_name": "Python 3",
   "language": "python",
   "name": "python3"
  },
  "language_info": {
   "codemirror_mode": {
    "name": "ipython",
    "version": 3
   },
   "file_extension": ".py",
   "mimetype": "text/x-python",
   "name": "python",
   "nbconvert_exporter": "python",
   "pygments_lexer": "ipython3",
   "version": "3.6.7"
  }
 },
 "nbformat": 4,
 "nbformat_minor": 2
}
